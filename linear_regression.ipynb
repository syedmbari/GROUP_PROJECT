{
  "nbformat": 4,
  "nbformat_minor": 0,
  "metadata": {
    "kernelspec": {
      "display_name": "mlenv",
      "language": "python",
      "name": "mlenv"
    },
    "language_info": {
      "codemirror_mode": {
        "name": "ipython",
        "version": 3
      },
      "file_extension": ".py",
      "mimetype": "text/x-python",
      "name": "python",
      "nbconvert_exporter": "python",
      "pygments_lexer": "ipython3",
      "version": "3.7.10"
    },
    "colab": {
      "name": "linear_regression.ipynb",
      "provenance": []
    }
  },
  "cells": [
    {
      "cell_type": "code",
      "metadata": {
        "id": "txQYqGHIriUl"
      },
      "source": [
        "import pandas as pd\n",
        "from pathlib import Path\n",
        "import matplotlib.pyplot as plt\n",
        "from sklearn.linear_model import LinearRegression"
      ],
      "execution_count": 1,
      "outputs": []
    },
    {
      "cell_type": "code",
      "metadata": {
        "colab": {
          "base_uri": "https://localhost:8080/",
          "height": 241
        },
        "id": "25s_Iz_-riUo",
        "outputId": "4d598e3e-e767-4a43-9657-ef3284f2f6db"
      },
      "source": [
        "imdb_data= pd.read_csv(\"https://imdbdatasetuoft.s3.us-east-2.amazonaws.com/IMDb_data.csv\")\n",
        "\n",
        "imdb_df = pd.read_csv(\"https://imdbdatasetuoft.s3.us-east-2.amazonaws.com/Encoded_Data.csv\")\n",
        "\n",
        "imdb_df.head()"
      ],
      "execution_count": 2,
      "outputs": [
        {
          "output_type": "execute_result",
          "data": {
            "text/html": [
              "<div>\n",
              "<style scoped>\n",
              "    .dataframe tbody tr th:only-of-type {\n",
              "        vertical-align: middle;\n",
              "    }\n",
              "\n",
              "    .dataframe tbody tr th {\n",
              "        vertical-align: top;\n",
              "    }\n",
              "\n",
              "    .dataframe thead th {\n",
              "        text-align: right;\n",
              "    }\n",
              "</style>\n",
              "<table border=\"1\" class=\"dataframe\">\n",
              "  <thead>\n",
              "    <tr style=\"text-align: right;\">\n",
              "      <th></th>\n",
              "      <th>duration</th>\n",
              "      <th>country</th>\n",
              "      <th>language 1</th>\n",
              "      <th>weighted_average_rating</th>\n",
              "      <th>total_votes</th>\n",
              "      <th>tot_voters_below_18</th>\n",
              "      <th>tot_voters_below_30</th>\n",
              "      <th>tot_voters_below_45</th>\n",
              "      <th>tot_voters_above_45</th>\n",
              "      <th>tot_male_voters</th>\n",
              "      <th>tot_female_voters</th>\n",
              "      <th>Drama</th>\n",
              "      <th>Adventure</th>\n",
              "      <th>Biography</th>\n",
              "      <th>Crime</th>\n",
              "      <th>Fantasy</th>\n",
              "      <th>Comedy</th>\n",
              "      <th>Horror</th>\n",
              "      <th>Family</th>\n",
              "      <th>Action</th>\n",
              "      <th>Romance</th>\n",
              "      <th>Mystery</th>\n",
              "      <th>History</th>\n",
              "      <th>Sci-Fi</th>\n",
              "      <th>Animation</th>\n",
              "      <th>Thriller</th>\n",
              "      <th>Sport</th>\n",
              "    </tr>\n",
              "  </thead>\n",
              "  <tbody>\n",
              "    <tr>\n",
              "      <th>0</th>\n",
              "      <td>100</td>\n",
              "      <td>148</td>\n",
              "      <td>38</td>\n",
              "      <td>5</td>\n",
              "      <td>446</td>\n",
              "      <td>23</td>\n",
              "      <td>23</td>\n",
              "      <td>111</td>\n",
              "      <td>193</td>\n",
              "      <td>299</td>\n",
              "      <td>39</td>\n",
              "      <td>1</td>\n",
              "      <td>0</td>\n",
              "      <td>0</td>\n",
              "      <td>0</td>\n",
              "      <td>0</td>\n",
              "      <td>0</td>\n",
              "      <td>0</td>\n",
              "      <td>0</td>\n",
              "      <td>0</td>\n",
              "      <td>0</td>\n",
              "      <td>0</td>\n",
              "      <td>1</td>\n",
              "      <td>0</td>\n",
              "      <td>0</td>\n",
              "      <td>0</td>\n",
              "      <td>0</td>\n",
              "    </tr>\n",
              "    <tr>\n",
              "      <th>1</th>\n",
              "      <td>68</td>\n",
              "      <td>66</td>\n",
              "      <td>68</td>\n",
              "      <td>7</td>\n",
              "      <td>2237</td>\n",
              "      <td>0</td>\n",
              "      <td>402</td>\n",
              "      <td>895</td>\n",
              "      <td>482</td>\n",
              "      <td>1607</td>\n",
              "      <td>215</td>\n",
              "      <td>1</td>\n",
              "      <td>1</td>\n",
              "      <td>0</td>\n",
              "      <td>0</td>\n",
              "      <td>1</td>\n",
              "      <td>0</td>\n",
              "      <td>0</td>\n",
              "      <td>0</td>\n",
              "      <td>0</td>\n",
              "      <td>0</td>\n",
              "      <td>0</td>\n",
              "      <td>0</td>\n",
              "      <td>0</td>\n",
              "      <td>0</td>\n",
              "      <td>0</td>\n",
              "      <td>0</td>\n",
              "    </tr>\n",
              "    <tr>\n",
              "      <th>2</th>\n",
              "      <td>60</td>\n",
              "      <td>148</td>\n",
              "      <td>38</td>\n",
              "      <td>6</td>\n",
              "      <td>484</td>\n",
              "      <td>35</td>\n",
              "      <td>35</td>\n",
              "      <td>177</td>\n",
              "      <td>168</td>\n",
              "      <td>354</td>\n",
              "      <td>31</td>\n",
              "      <td>1</td>\n",
              "      <td>0</td>\n",
              "      <td>1</td>\n",
              "      <td>0</td>\n",
              "      <td>0</td>\n",
              "      <td>0</td>\n",
              "      <td>0</td>\n",
              "      <td>0</td>\n",
              "      <td>0</td>\n",
              "      <td>0</td>\n",
              "      <td>0</td>\n",
              "      <td>0</td>\n",
              "      <td>0</td>\n",
              "      <td>0</td>\n",
              "      <td>0</td>\n",
              "      <td>0</td>\n",
              "    </tr>\n",
              "    <tr>\n",
              "      <th>3</th>\n",
              "      <td>85</td>\n",
              "      <td>47</td>\n",
              "      <td>49</td>\n",
              "      <td>7</td>\n",
              "      <td>753</td>\n",
              "      <td>0</td>\n",
              "      <td>59</td>\n",
              "      <td>287</td>\n",
              "      <td>276</td>\n",
              "      <td>530</td>\n",
              "      <td>93</td>\n",
              "      <td>1</td>\n",
              "      <td>0</td>\n",
              "      <td>1</td>\n",
              "      <td>0</td>\n",
              "      <td>0</td>\n",
              "      <td>0</td>\n",
              "      <td>0</td>\n",
              "      <td>0</td>\n",
              "      <td>0</td>\n",
              "      <td>1</td>\n",
              "      <td>0</td>\n",
              "      <td>0</td>\n",
              "      <td>0</td>\n",
              "      <td>0</td>\n",
              "      <td>0</td>\n",
              "      <td>0</td>\n",
              "    </tr>\n",
              "    <tr>\n",
              "      <th>4</th>\n",
              "      <td>120</td>\n",
              "      <td>66</td>\n",
              "      <td>68</td>\n",
              "      <td>6</td>\n",
              "      <td>273</td>\n",
              "      <td>0</td>\n",
              "      <td>34</td>\n",
              "      <td>99</td>\n",
              "      <td>69</td>\n",
              "      <td>191</td>\n",
              "      <td>21</td>\n",
              "      <td>1</td>\n",
              "      <td>0</td>\n",
              "      <td>0</td>\n",
              "      <td>0</td>\n",
              "      <td>0</td>\n",
              "      <td>0</td>\n",
              "      <td>0</td>\n",
              "      <td>0</td>\n",
              "      <td>0</td>\n",
              "      <td>0</td>\n",
              "      <td>0</td>\n",
              "      <td>1</td>\n",
              "      <td>0</td>\n",
              "      <td>0</td>\n",
              "      <td>0</td>\n",
              "      <td>0</td>\n",
              "    </tr>\n",
              "  </tbody>\n",
              "</table>\n",
              "</div>"
            ],
            "text/plain": [
              "   duration  country  language 1  ...  Animation  Thriller  Sport\n",
              "0       100      148          38  ...          0         0      0\n",
              "1        68       66          68  ...          0         0      0\n",
              "2        60      148          38  ...          0         0      0\n",
              "3        85       47          49  ...          0         0      0\n",
              "4       120       66          68  ...          0         0      0\n",
              "\n",
              "[5 rows x 27 columns]"
            ]
          },
          "metadata": {},
          "execution_count": 2
        }
      ]
    },
    {
      "cell_type": "code",
      "metadata": {
        "colab": {
          "base_uri": "https://localhost:8080/",
          "height": 241
        },
        "id": "mNtC_sh2r2Vw",
        "outputId": "c8a5228a-adf2-46fe-91bb-674f2cf5810e"
      },
      "source": [
        "X = imdb_df.copy()\n",
        "X = X.drop(\"weighted_average_rating\", axis=1)\n",
        "X.head()"
      ],
      "execution_count": 3,
      "outputs": [
        {
          "output_type": "execute_result",
          "data": {
            "text/html": [
              "<div>\n",
              "<style scoped>\n",
              "    .dataframe tbody tr th:only-of-type {\n",
              "        vertical-align: middle;\n",
              "    }\n",
              "\n",
              "    .dataframe tbody tr th {\n",
              "        vertical-align: top;\n",
              "    }\n",
              "\n",
              "    .dataframe thead th {\n",
              "        text-align: right;\n",
              "    }\n",
              "</style>\n",
              "<table border=\"1\" class=\"dataframe\">\n",
              "  <thead>\n",
              "    <tr style=\"text-align: right;\">\n",
              "      <th></th>\n",
              "      <th>duration</th>\n",
              "      <th>country</th>\n",
              "      <th>language 1</th>\n",
              "      <th>total_votes</th>\n",
              "      <th>tot_voters_below_18</th>\n",
              "      <th>tot_voters_below_30</th>\n",
              "      <th>tot_voters_below_45</th>\n",
              "      <th>tot_voters_above_45</th>\n",
              "      <th>tot_male_voters</th>\n",
              "      <th>tot_female_voters</th>\n",
              "      <th>Drama</th>\n",
              "      <th>Adventure</th>\n",
              "      <th>Biography</th>\n",
              "      <th>Crime</th>\n",
              "      <th>Fantasy</th>\n",
              "      <th>Comedy</th>\n",
              "      <th>Horror</th>\n",
              "      <th>Family</th>\n",
              "      <th>Action</th>\n",
              "      <th>Romance</th>\n",
              "      <th>Mystery</th>\n",
              "      <th>History</th>\n",
              "      <th>Sci-Fi</th>\n",
              "      <th>Animation</th>\n",
              "      <th>Thriller</th>\n",
              "      <th>Sport</th>\n",
              "    </tr>\n",
              "  </thead>\n",
              "  <tbody>\n",
              "    <tr>\n",
              "      <th>0</th>\n",
              "      <td>100</td>\n",
              "      <td>148</td>\n",
              "      <td>38</td>\n",
              "      <td>446</td>\n",
              "      <td>23</td>\n",
              "      <td>23</td>\n",
              "      <td>111</td>\n",
              "      <td>193</td>\n",
              "      <td>299</td>\n",
              "      <td>39</td>\n",
              "      <td>1</td>\n",
              "      <td>0</td>\n",
              "      <td>0</td>\n",
              "      <td>0</td>\n",
              "      <td>0</td>\n",
              "      <td>0</td>\n",
              "      <td>0</td>\n",
              "      <td>0</td>\n",
              "      <td>0</td>\n",
              "      <td>0</td>\n",
              "      <td>0</td>\n",
              "      <td>1</td>\n",
              "      <td>0</td>\n",
              "      <td>0</td>\n",
              "      <td>0</td>\n",
              "      <td>0</td>\n",
              "    </tr>\n",
              "    <tr>\n",
              "      <th>1</th>\n",
              "      <td>68</td>\n",
              "      <td>66</td>\n",
              "      <td>68</td>\n",
              "      <td>2237</td>\n",
              "      <td>0</td>\n",
              "      <td>402</td>\n",
              "      <td>895</td>\n",
              "      <td>482</td>\n",
              "      <td>1607</td>\n",
              "      <td>215</td>\n",
              "      <td>1</td>\n",
              "      <td>1</td>\n",
              "      <td>0</td>\n",
              "      <td>0</td>\n",
              "      <td>1</td>\n",
              "      <td>0</td>\n",
              "      <td>0</td>\n",
              "      <td>0</td>\n",
              "      <td>0</td>\n",
              "      <td>0</td>\n",
              "      <td>0</td>\n",
              "      <td>0</td>\n",
              "      <td>0</td>\n",
              "      <td>0</td>\n",
              "      <td>0</td>\n",
              "      <td>0</td>\n",
              "    </tr>\n",
              "    <tr>\n",
              "      <th>2</th>\n",
              "      <td>60</td>\n",
              "      <td>148</td>\n",
              "      <td>38</td>\n",
              "      <td>484</td>\n",
              "      <td>35</td>\n",
              "      <td>35</td>\n",
              "      <td>177</td>\n",
              "      <td>168</td>\n",
              "      <td>354</td>\n",
              "      <td>31</td>\n",
              "      <td>1</td>\n",
              "      <td>0</td>\n",
              "      <td>1</td>\n",
              "      <td>0</td>\n",
              "      <td>0</td>\n",
              "      <td>0</td>\n",
              "      <td>0</td>\n",
              "      <td>0</td>\n",
              "      <td>0</td>\n",
              "      <td>0</td>\n",
              "      <td>0</td>\n",
              "      <td>0</td>\n",
              "      <td>0</td>\n",
              "      <td>0</td>\n",
              "      <td>0</td>\n",
              "      <td>0</td>\n",
              "    </tr>\n",
              "    <tr>\n",
              "      <th>3</th>\n",
              "      <td>85</td>\n",
              "      <td>47</td>\n",
              "      <td>49</td>\n",
              "      <td>753</td>\n",
              "      <td>0</td>\n",
              "      <td>59</td>\n",
              "      <td>287</td>\n",
              "      <td>276</td>\n",
              "      <td>530</td>\n",
              "      <td>93</td>\n",
              "      <td>1</td>\n",
              "      <td>0</td>\n",
              "      <td>1</td>\n",
              "      <td>0</td>\n",
              "      <td>0</td>\n",
              "      <td>0</td>\n",
              "      <td>0</td>\n",
              "      <td>0</td>\n",
              "      <td>0</td>\n",
              "      <td>1</td>\n",
              "      <td>0</td>\n",
              "      <td>0</td>\n",
              "      <td>0</td>\n",
              "      <td>0</td>\n",
              "      <td>0</td>\n",
              "      <td>0</td>\n",
              "    </tr>\n",
              "    <tr>\n",
              "      <th>4</th>\n",
              "      <td>120</td>\n",
              "      <td>66</td>\n",
              "      <td>68</td>\n",
              "      <td>273</td>\n",
              "      <td>0</td>\n",
              "      <td>34</td>\n",
              "      <td>99</td>\n",
              "      <td>69</td>\n",
              "      <td>191</td>\n",
              "      <td>21</td>\n",
              "      <td>1</td>\n",
              "      <td>0</td>\n",
              "      <td>0</td>\n",
              "      <td>0</td>\n",
              "      <td>0</td>\n",
              "      <td>0</td>\n",
              "      <td>0</td>\n",
              "      <td>0</td>\n",
              "      <td>0</td>\n",
              "      <td>0</td>\n",
              "      <td>0</td>\n",
              "      <td>1</td>\n",
              "      <td>0</td>\n",
              "      <td>0</td>\n",
              "      <td>0</td>\n",
              "      <td>0</td>\n",
              "    </tr>\n",
              "  </tbody>\n",
              "</table>\n",
              "</div>"
            ],
            "text/plain": [
              "   duration  country  language 1  ...  Animation  Thriller  Sport\n",
              "0       100      148          38  ...          0         0      0\n",
              "1        68       66          68  ...          0         0      0\n",
              "2        60      148          38  ...          0         0      0\n",
              "3        85       47          49  ...          0         0      0\n",
              "4       120       66          68  ...          0         0      0\n",
              "\n",
              "[5 rows x 26 columns]"
            ]
          },
          "metadata": {},
          "execution_count": 3
        }
      ]
    },
    {
      "cell_type": "code",
      "metadata": {
        "colab": {
          "base_uri": "https://localhost:8080/"
        },
        "id": "CAJCSVLRr_E1",
        "outputId": "953f6c06-e366-47b2-c301-250c476e7f91"
      },
      "source": [
        "y = imdb_df[\"weighted_average_rating\"]\n",
        "y"
      ],
      "execution_count": 7,
      "outputs": [
        {
          "output_type": "execute_result",
          "data": {
            "text/plain": [
              "0        5\n",
              "1        7\n",
              "2        6\n",
              "3        7\n",
              "4        6\n",
              "        ..\n",
              "84132    7\n",
              "84133    5\n",
              "84134    8\n",
              "84135    6\n",
              "84136    7\n",
              "Name: weighted_average_rating, Length: 84137, dtype: int64"
            ]
          },
          "metadata": {},
          "execution_count": 7
        }
      ]
    },
    {
      "cell_type": "code",
      "metadata": {
        "scrolled": true,
        "id": "rz6O8JHtriUp"
      },
      "source": [
        "# The data in the df column must be reshaped into an array with shape (num_samples, num_features)\n",
        "# https://stackoverflow.com/questions/18691084/what-does-1-mean-in-numpy-reshape\n",
        "X = df.YearsExperience.values.reshape(-1, 1)"
      ],
      "execution_count": null,
      "outputs": []
    },
    {
      "cell_type": "code",
      "metadata": {
        "id": "ETo52EpsriUq",
        "outputId": "51e56b2b-e6e4-4437-d1d4-bb1c36e42653"
      },
      "source": [
        "X[:5]"
      ],
      "execution_count": null,
      "outputs": [
        {
          "data": {
            "text/plain": [
              "array([[1.1],\n",
              "       [1.3],\n",
              "       [1.5],\n",
              "       [2. ],\n",
              "       [2.2]])"
            ]
          },
          "execution_count": 6,
          "metadata": {},
          "output_type": "execute_result"
        }
      ]
    },
    {
      "cell_type": "code",
      "metadata": {
        "id": "a4tK7ziYriUq",
        "outputId": "41914472-a104-4d41-eb06-2b2561720d9e"
      },
      "source": [
        "# The shape of X is 30 samples, with a single feature (column)\n",
        "X.shape"
      ],
      "execution_count": null,
      "outputs": [
        {
          "data": {
            "text/plain": [
              "(30, 1)"
            ]
          },
          "execution_count": 7,
          "metadata": {},
          "output_type": "execute_result"
        }
      ]
    },
    {
      "cell_type": "code",
      "metadata": {
        "id": "0RDszFzbriUq"
      },
      "source": [
        "y = df.Salary"
      ],
      "execution_count": null,
      "outputs": []
    },
    {
      "cell_type": "code",
      "metadata": {
        "id": "JOEU2L_2riUr"
      },
      "source": [
        "# Create a model with scikit-learn\n",
        "model = LinearRegression()"
      ],
      "execution_count": 9,
      "outputs": []
    },
    {
      "cell_type": "code",
      "metadata": {
        "colab": {
          "base_uri": "https://localhost:8080/"
        },
        "id": "s6NlOxgLriUr",
        "outputId": "de8d8f09-8ac5-41a3-98f8-d4fad1c26b76"
      },
      "source": [
        "# Fit the data into the model\n",
        "# By convention, X is capitalized and y is lowercase\n",
        "model.fit(X, y)"
      ],
      "execution_count": 10,
      "outputs": [
        {
          "output_type": "execute_result",
          "data": {
            "text/plain": [
              "LinearRegression()"
            ]
          },
          "metadata": {},
          "execution_count": 10
        }
      ]
    },
    {
      "cell_type": "code",
      "metadata": {
        "colab": {
          "base_uri": "https://localhost:8080/"
        },
        "id": "SY0y_b06riUs",
        "outputId": "d0875c93-8c21-4f08-ddce-208940b0b03b"
      },
      "source": [
        "# The model creates predicted y values based on X values\n",
        "y_pred = model.predict(X)\n",
        "print(y_pred.shape)"
      ],
      "execution_count": 11,
      "outputs": [
        {
          "output_type": "stream",
          "name": "stdout",
          "text": [
            "(84137,)\n"
          ]
        }
      ]
    },
    {
      "cell_type": "code",
      "metadata": {
        "colab": {
          "base_uri": "https://localhost:8080/"
        },
        "id": "3xVxwXferiUt",
        "outputId": "1e61cce5-f2fc-4579-b0a0-75c4afaec011"
      },
      "source": [
        "# The slope\n",
        "# The y-intercept\n",
        "print(model.coef_)\n",
        "print(model.intercept_)"
      ],
      "execution_count": 13,
      "outputs": [
        {
          "output_type": "stream",
          "name": "stdout",
          "text": [
            "[ 6.78107245e-03 -2.34622426e-03  3.10760433e-03 -3.06760565e-05\n",
            "  2.04133201e-04  4.42254650e-05 -1.24605278e-05  1.45215001e-04\n",
            "  2.36943365e-05  1.32583081e-05  4.43640878e-01 -2.45739041e-02\n",
            "  2.27331663e-01  1.39151293e-01 -5.34360734e-02 -1.25319816e-02\n",
            " -7.72997479e-01 -4.85351664e-02 -3.77097729e-01  9.21570271e-02\n",
            "  1.42421115e-01  1.99378932e-01 -4.36481626e-01  7.48261940e-01\n",
            " -2.47788414e-01 -2.87858479e-02]\n",
            "5.134245859551609\n"
          ]
        }
      ]
    },
    {
      "cell_type": "code",
      "metadata": {
        "id": "CJtQINbMtdlx"
      },
      "source": [
        "# importing train_test_split from sklearn\n",
        "from sklearn.model_selection import train_test_split\n",
        "# splitting the data\n",
        "x_train, x_test, y_train, y_test = train_test_split(X, y, test_size = 0.2, random_state = 42)"
      ],
      "execution_count": 17,
      "outputs": []
    },
    {
      "cell_type": "code",
      "metadata": {
        "colab": {
          "base_uri": "https://localhost:8080/"
        },
        "id": "-Q7voNJjtmLt",
        "outputId": "9f61db70-0c18-47f9-a0fc-6ce992bee10d"
      },
      "source": [
        "prediction = model.predict(x_test)\n",
        "prediction"
      ],
      "execution_count": 19,
      "outputs": [
        {
          "output_type": "execute_result",
          "data": {
            "text/plain": [
              "array([5.81592578, 5.87096888, 6.36326215, ..., 6.08052184, 6.17693116,\n",
              "       6.79699686])"
            ]
          },
          "metadata": {},
          "execution_count": 19
        }
      ]
    },
    {
      "cell_type": "code",
      "metadata": {
        "colab": {
          "base_uri": "https://localhost:8080/"
        },
        "id": "5kYDb-t6riUt",
        "outputId": "5f261bef-5ac7-433d-8135-595cc465e238"
      },
      "source": [
        "from sklearn.metrics import r2_score\n",
        "from sklearn.metrics import mean_squared_error\n",
        "import numpy as np\n",
        "# predicting the accuracy score\n",
        "score=r2_score(y_test,prediction)\n",
        "print(\"r2 socre is \",score)\n",
        "print(\"mean_sqrd_error is==\",mean_squared_error(y_test,prediction))\n",
        "print(\"root_mean_squared error of is==\",np.sqrt(mean_squared_error(y_test,prediction)))"
      ],
      "execution_count": 21,
      "outputs": [
        {
          "output_type": "stream",
          "name": "stdout",
          "text": [
            "r2 socre is  0.24489492727110707\n",
            "mean_sqrd_error is== 1.2087212257382316\n",
            "root_mean_squared error of is== 1.0994185853159986\n"
          ]
        }
      ]
    }
  ]
}