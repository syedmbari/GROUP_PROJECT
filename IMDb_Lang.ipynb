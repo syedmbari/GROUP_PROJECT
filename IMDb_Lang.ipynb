{
  "nbformat": 4,
  "nbformat_minor": 0,
  "metadata": {
    "colab": {
      "name": "IMDb_Lang.ipynb",
      "provenance": [],
      "collapsed_sections": [],
      "toc_visible": true
    },
    "kernelspec": {
      "name": "python3",
      "display_name": "Python 3"
    },
    "language_info": {
      "name": "python"
    }
  },
  "cells": [
    {
      "cell_type": "code",
      "metadata": {
        "colab": {
          "base_uri": "https://localhost:8080/"
        },
        "id": "kUTH_Qg4N3_9",
        "outputId": "cbe42d37-f0de-40bf-c8d5-54e9c8bd208a"
      },
      "source": [
        "import os\n",
        "# Find the latest version of spark 3.0 from http://www.apache.org/dist/spark/ and enter as the spark version\n",
        "# For example:\n",
        "# spark_version = 'spark-3.0.3'\n",
        "spark_version = 'spark-3.0.3'\n",
        "os.environ['SPARK_VERSION']=spark_version\n",
        "\n",
        "# Install Spark and Java\n",
        "!apt-get update\n",
        "!apt-get install openjdk-11-jdk-headless -qq > /dev/null\n",
        "!wget -q http://www.apache.org/dist/spark/$SPARK_VERSION/$SPARK_VERSION-bin-hadoop2.7.tgz\n",
        "!tar xf $SPARK_VERSION-bin-hadoop2.7.tgz\n",
        "!pip install -q findspark\n",
        "\n",
        "# Set Environment Variables\n",
        "import os\n",
        "os.environ[\"JAVA_HOME\"] = \"/usr/lib/jvm/java-11-openjdk-amd64\"\n",
        "os.environ[\"SPARK_HOME\"] = f\"/content/{spark_version}-bin-hadoop2.7\"\n",
        "\n",
        "# Start a SparkSession\n",
        "import findspark\n",
        "findspark.init()"
      ],
      "execution_count": 1,
      "outputs": [
        {
          "output_type": "stream",
          "name": "stdout",
          "text": [
            "Get:1 https://cloud.r-project.org/bin/linux/ubuntu bionic-cran40/ InRelease [3,626 B]\n",
            "Ign:2 https://developer.download.nvidia.com/compute/cuda/repos/ubuntu1804/x86_64  InRelease\n",
            "Ign:3 https://developer.download.nvidia.com/compute/machine-learning/repos/ubuntu1804/x86_64  InRelease\n",
            "Hit:4 http://ppa.launchpad.net/c2d4u.team/c2d4u4.0+/ubuntu bionic InRelease\n",
            "Hit:5 https://developer.download.nvidia.com/compute/cuda/repos/ubuntu1804/x86_64  Release\n",
            "Hit:6 https://developer.download.nvidia.com/compute/machine-learning/repos/ubuntu1804/x86_64  Release\n",
            "Get:7 http://security.ubuntu.com/ubuntu bionic-security InRelease [88.7 kB]\n",
            "Hit:8 http://archive.ubuntu.com/ubuntu bionic InRelease\n",
            "Hit:9 http://ppa.launchpad.net/cran/libgit2/ubuntu bionic InRelease\n",
            "Get:10 http://archive.ubuntu.com/ubuntu bionic-updates InRelease [88.7 kB]\n",
            "Hit:12 http://ppa.launchpad.net/deadsnakes/ppa/ubuntu bionic InRelease\n",
            "Get:14 http://archive.ubuntu.com/ubuntu bionic-backports InRelease [74.6 kB]\n",
            "Hit:15 http://ppa.launchpad.net/graphics-drivers/ppa/ubuntu bionic InRelease\n",
            "Get:16 http://archive.ubuntu.com/ubuntu bionic-updates/main amd64 Packages [2,867 kB]\n",
            "Fetched 3,123 kB in 4s (702 kB/s)\n",
            "Reading package lists... Done\n"
          ]
        }
      ]
    },
    {
      "cell_type": "code",
      "metadata": {
        "colab": {
          "base_uri": "https://localhost:8080/"
        },
        "id": "ZCMOSMYUN7tD",
        "outputId": "0a518a97-7578-46cf-805f-4da1734175cd"
      },
      "source": [
        "# Download the Postgres driver that will allow Spark to interact with Postgres.\n",
        "!wget https://jdbc.postgresql.org/download/postgresql-42.2.16.jar"
      ],
      "execution_count": 2,
      "outputs": [
        {
          "output_type": "stream",
          "name": "stdout",
          "text": [
            "--2021-11-21 02:01:59--  https://jdbc.postgresql.org/download/postgresql-42.2.16.jar\n",
            "Resolving jdbc.postgresql.org (jdbc.postgresql.org)... 72.32.157.228, 2001:4800:3e1:1::228\n",
            "Connecting to jdbc.postgresql.org (jdbc.postgresql.org)|72.32.157.228|:443... connected.\n",
            "HTTP request sent, awaiting response... 200 OK\n",
            "Length: 1002883 (979K) [application/java-archive]\n",
            "Saving to: ‘postgresql-42.2.16.jar’\n",
            "\n",
            "postgresql-42.2.16. 100%[===================>] 979.38K  1.23MB/s    in 0.8s    \n",
            "\n",
            "2021-11-21 02:02:00 (1.23 MB/s) - ‘postgresql-42.2.16.jar’ saved [1002883/1002883]\n",
            "\n"
          ]
        }
      ]
    },
    {
      "cell_type": "code",
      "metadata": {
        "id": "apRYVq6tOAjI"
      },
      "source": [
        "from pyspark.sql import SparkSession\n",
        "spark = SparkSession.builder.appName(\"M16-Amazon-Challenge\").config(\"spark.driver.extraClassPath\",\"/content/postgresql-42.2.16.jar\").getOrCreate()"
      ],
      "execution_count": 3,
      "outputs": []
    },
    {
      "cell_type": "code",
      "metadata": {
        "id": "rYhsMemzOByJ"
      },
      "source": [
        "from pyspark import SparkFiles\n",
        "url = \"https://imdb-ratings-project-2021.s3.us-east-2.amazonaws.com/IMDb_Lang.csv\"\n",
        "spark.sparkContext.addFile(url)"
      ],
      "execution_count": 4,
      "outputs": []
    },
    {
      "cell_type": "code",
      "metadata": {
        "colab": {
          "base_uri": "https://localhost:8080/"
        },
        "id": "qUaGXrm1OH0w",
        "outputId": "200d52af-3cdb-44ae-c207-e1bf2d23cbc4"
      },
      "source": [
        "from pyspark.sql.functions import to_date\n",
        "# Read in the Review dataset as a DataFrame\n",
        "IMDb_Lang = spark.read.option(\"encoding\", \"UTF-8\").csv(SparkFiles.get(\"\"), header=True, inferSchema=True)\n",
        "IMDb_Lang.show()"
      ],
      "execution_count": 6,
      "outputs": [
        {
          "output_type": "stream",
          "name": "stdout",
          "text": [
            "+-------------+---------+--------+-----------+---------------+--------+-----+----------+------------------+--------------------+\n",
            "|imdb_title_id|   genre1|duration|    country|language_movies|avg_vote|votes|    budget|reviews_from_users|reviews_from_critics|\n",
            "+-------------+---------+--------+-----------+---------------+--------+-----+----------+------------------+--------------------+\n",
            "|    tt0000009|  Romance|      45|        USA|           None|     5.9|  154|      null|                 1|                   2|\n",
            "|    tt0000574|Biography|      70|  Australia|           None|     6.1|  589|    $2,250|                 7|                   7|\n",
            "|    tt0001892|    Drama|      53|        USA|        English|     5.8|  188|      null|                 5|                   2|\n",
            "|    tt0002101|Adventure|     100|      Italy|        Italian|     5.2|  446|   $45,000|                25|                   3|\n",
            "|    tt0002130|Biography|      68|        USA|        English|     7.0| 2237|      null|                31|                  14|\n",
            "|    tt0002199|Biography|      60|    Germany|         German|     5.7|  484|      null|                13|                   5|\n",
            "|    tt0002423|    Drama|      85|      Italy|        Italian|     6.8|  753|      null|                12|                   9|\n",
            "|    tt0002445|    Drama|     120|France, USA|        English|     6.2|  273| ITL 45000|                 7|                   5|\n",
            "|    tt0002452|    Drama|     120|    Denmark|         Danish|     6.7|  198|ROL 400000|                 4|                   1|\n",
            "|    tt0002461|    Crime|      55|     France|         French|     5.5|  225|   $30,000|                 8|                   1|\n",
            "|    tt0002646|    Crime|     121|     France|         French|     6.6|  331|      null|                 9|                   9|\n",
            "|    tt0002844|    Drama|      54|      Italy|        Italian|     7.0| 1944|      null|                 9|                  28|\n",
            "|    tt0003014|    Drama|      96|    Belgium|         French|     7.1|  948|      null|                16|                   7|\n",
            "|    tt0003037|    Crime|      61|     France|         French|     7.0| 1349|      null|                 8|                  23|\n",
            "|    tt0003102|    Drama|      90|        USA|        English|     6.2|  100|      null|              null|                   4|\n",
            "|    tt0003131|    Drama|      50|    Germany|         German|     6.5|  124|      null|                 2|                   2|\n",
            "|    tt0003165|    Crime|      90|        USA|        English|     7.0| 1050|      null|                 6|                  18|\n",
            "|    tt0003167|Adventure|      55|      Italy|        Italian|     5.8|  187|      null|                 6|                null|\n",
            "|    tt0003419|    Crime|      85|        USA|        English|     6.5| 1768|      null|                20|                  26|\n",
            "|    tt0003471|  Western|      88|        USA|        English|     6.0|  552|    $5,700|                14|                  11|\n",
            "+-------------+---------+--------+-----------+---------------+--------+-----+----------+------------------+--------------------+\n",
            "only showing top 20 rows\n",
            "\n"
          ]
        }
      ]
    },
    {
      "cell_type": "code",
      "metadata": {
        "id": "6wijKSWTO2no"
      },
      "source": [
        "# Configure settings for RDS\n",
        "mode = \"append\"\n",
        "jdbc_url=\"jdbc:postgresql://movies.cuqh3xl6sha7.us-east-2.rds.amazonaws.com:5432/postgres\"\n",
        "config = {\"user\":\"IMdb_movies\", \n",
        "          \"password\": \"11062011\", \n",
        "          \"driver\":\"org.postgresql.Driver\"}"
      ],
      "execution_count": 7,
      "outputs": []
    },
    {
      "cell_type": "code",
      "metadata": {
        "id": "x7Dvx7Y1O7Wa"
      },
      "source": [
        "# Write customers_df to table in RDS\n",
        "# 5 min 14 s\n",
        "IMDb_Lang.write.jdbc(url=jdbc_url, table='IMDb_Lang', mode=mode, properties=config)"
      ],
      "execution_count": 9,
      "outputs": []
    }
  ]
}