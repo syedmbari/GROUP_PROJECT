{
  "nbformat": 4,
  "nbformat_minor": 0,
  "metadata": {
    "colab": {
      "name": "IMDb_ratings.ipynb",
      "provenance": [],
      "collapsed_sections": [],
      "toc_visible": true
    },
    "kernelspec": {
      "name": "python3",
      "display_name": "Python 3"
    },
    "language_info": {
      "name": "python"
    }
  },
  "cells": [
    {
      "cell_type": "code",
      "metadata": {
        "colab": {
          "base_uri": "https://localhost:8080/"
        },
        "id": "ncorLUFEJIZJ",
        "outputId": "8e246043-b68b-4e0a-d92d-56aa11ca1996"
      },
      "source": [
        "import os\n",
        "# Find the latest version of spark 3.0 from http://www.apache.org/dist/spark/ and enter as the spark version\n",
        "# For example:\n",
        "# spark_version = 'spark-3.0.3'\n",
        "spark_version = 'spark-3.0.3'\n",
        "os.environ['SPARK_VERSION']=spark_version\n",
        "\n",
        "# Install Spark and Java\n",
        "!apt-get update\n",
        "!apt-get install openjdk-11-jdk-headless -qq > /dev/null\n",
        "!wget -q http://www.apache.org/dist/spark/$SPARK_VERSION/$SPARK_VERSION-bin-hadoop2.7.tgz\n",
        "!tar xf $SPARK_VERSION-bin-hadoop2.7.tgz\n",
        "!pip install -q findspark\n",
        "\n",
        "# Set Environment Variables\n",
        "import os\n",
        "os.environ[\"JAVA_HOME\"] = \"/usr/lib/jvm/java-11-openjdk-amd64\"\n",
        "os.environ[\"SPARK_HOME\"] = f\"/content/{spark_version}-bin-hadoop2.7\"\n",
        "\n",
        "# Start a SparkSession\n",
        "import findspark\n",
        "findspark.init()"
      ],
      "execution_count": 1,
      "outputs": [
        {
          "output_type": "stream",
          "name": "stdout",
          "text": [
            "\r0% [Working]\r            \rGet:1 https://cloud.r-project.org/bin/linux/ubuntu bionic-cran40/ InRelease [3,626 B]\n",
            "Ign:2 https://developer.download.nvidia.com/compute/cuda/repos/ubuntu1804/x86_64  InRelease\n",
            "Hit:3 http://ppa.launchpad.net/c2d4u.team/c2d4u4.0+/ubuntu bionic InRelease\n",
            "Get:4 http://security.ubuntu.com/ubuntu bionic-security InRelease [88.7 kB]\n",
            "Ign:5 https://developer.download.nvidia.com/compute/machine-learning/repos/ubuntu1804/x86_64  InRelease\n",
            "Hit:6 https://developer.download.nvidia.com/compute/cuda/repos/ubuntu1804/x86_64  Release\n",
            "Hit:7 https://developer.download.nvidia.com/compute/machine-learning/repos/ubuntu1804/x86_64  Release\n",
            "Hit:8 http://archive.ubuntu.com/ubuntu bionic InRelease\n",
            "Get:9 http://archive.ubuntu.com/ubuntu bionic-updates InRelease [88.7 kB]\n",
            "Hit:10 http://ppa.launchpad.net/cran/libgit2/ubuntu bionic InRelease\n",
            "Hit:11 http://ppa.launchpad.net/deadsnakes/ppa/ubuntu bionic InRelease\n",
            "Get:12 http://archive.ubuntu.com/ubuntu bionic-backports InRelease [74.6 kB]\n",
            "Hit:13 http://ppa.launchpad.net/graphics-drivers/ppa/ubuntu bionic InRelease\n",
            "Get:16 http://archive.ubuntu.com/ubuntu bionic-updates/main amd64 Packages [2,867 kB]\n",
            "Fetched 3,123 kB in 3s (996 kB/s)\n",
            "Reading package lists... Done\n"
          ]
        }
      ]
    },
    {
      "cell_type": "code",
      "metadata": {
        "colab": {
          "base_uri": "https://localhost:8080/"
        },
        "id": "2ysRZDgJJNVz",
        "outputId": "07097d45-2c63-47b6-a7b2-07f927f40b46"
      },
      "source": [
        "# Download the Postgres driver that will allow Spark to interact with Postgres.\n",
        "!wget https://jdbc.postgresql.org/download/postgresql-42.2.16.jar"
      ],
      "execution_count": 2,
      "outputs": [
        {
          "output_type": "stream",
          "name": "stdout",
          "text": [
            "--2021-11-20 21:00:17--  https://jdbc.postgresql.org/download/postgresql-42.2.16.jar\n",
            "Resolving jdbc.postgresql.org (jdbc.postgresql.org)... 72.32.157.228, 2001:4800:3e1:1::228\n",
            "Connecting to jdbc.postgresql.org (jdbc.postgresql.org)|72.32.157.228|:443... connected.\n",
            "HTTP request sent, awaiting response... 200 OK\n",
            "Length: 1002883 (979K) [application/java-archive]\n",
            "Saving to: ‘postgresql-42.2.16.jar’\n",
            "\n",
            "postgresql-42.2.16. 100%[===================>] 979.38K  --.-KB/s    in 0.1s    \n",
            "\n",
            "2021-11-20 21:00:18 (6.59 MB/s) - ‘postgresql-42.2.16.jar’ saved [1002883/1002883]\n",
            "\n"
          ]
        }
      ]
    },
    {
      "cell_type": "code",
      "metadata": {
        "id": "qJB-aNvDJUMw"
      },
      "source": [
        "from pyspark.sql import SparkSession\n",
        "spark = SparkSession.builder.appName(\"M16-Amazon-Challenge\").config(\"spark.driver.extraClassPath\",\"/content/postgresql-42.2.16.jar\").getOrCreate()"
      ],
      "execution_count": 3,
      "outputs": []
    },
    {
      "cell_type": "code",
      "metadata": {
        "id": "t7ECyVNyJYpU"
      },
      "source": [
        "from pyspark import SparkFiles\n",
        "url = \"https://imdb-ratings-project-2021.s3.us-east-2.amazonaws.com/IMDb_ratings.csv\"\n",
        "spark.sparkContext.addFile(url)"
      ],
      "execution_count": 4,
      "outputs": []
    },
    {
      "cell_type": "code",
      "metadata": {
        "colab": {
          "base_uri": "https://localhost:8080/"
        },
        "id": "_imF-mUsJb3p",
        "outputId": "095f77db-38aa-494e-e6d0-0236fedf11c2"
      },
      "source": [
        "from pyspark.sql.functions import to_date\n",
        "# Read in the Review dataset as a DataFrame\n",
        "IMDb_ratings = spark.read.option(\"encoding\", \"UTF-8\").csv(SparkFiles.get(\"\"), header=True, inferSchema=True)\n",
        "IMDb_ratings.show()"
      ],
      "execution_count": 11,
      "outputs": [
        {
          "output_type": "stream",
          "name": "stdout",
          "text": [
            "+-------------+---------------------+-----------+---------+-----------+--------+-------+-------+-------+-------+-------+-------+-------+-------+-------+------------------------+---------------------+-------------------------+----------------------+-------------------------+----------------------+-------------------------+----------------------+----------------------+-------------------+-------------------+----------------+--------------------+-----------------+--------------------+-----------------+--------------------+-----------------+------------------------+---------------------+---------------------+------------------+----------------------+-------------------+----------------------+-------------------+----------------------+-------------------+---------------------+--------------------+----------------+---------------+--------------------+-------------------+\n",
            "|imdb_title_id|weighted_average_vote|total_votes|mean_vote|median_vote|votes_10|votes_9|votes_8|votes_7|votes_6|votes_5|votes_4|votes_3|votes_2|votes_1|allgenders_0age_avg_vote|allgenders_0age_votes|allgenders_18age_avg_vote|allgenders_18age_votes|allgenders_30age_avg_vote|allgenders_30age_votes|allgenders_45age_avg_vote|allgenders_45age_votes|males_allages_avg_vote|males_allages_votes|males_0age_avg_vote|males_0age_votes|males_18age_avg_vote|males_18age_votes|males_30age_avg_vote|males_30age_votes|males_45age_avg_vote|males_45age_votes|females_allages_avg_vote|females_allages_votes|females_0age_avg_vote|females_0age_votes|females_18age_avg_vote|females_18age_votes|females_30age_avg_vote|females_30age_votes|females_45age_avg_vote|females_45age_votes|top1000_voters_rating|top1000_voters_votes|us_voters_rating|us_voters_votes|non_us_voters_rating|non_us_voters_votes|\n",
            "+-------------+---------------------+-----------+---------+-----------+--------+-------+-------+-------+-------+-------+-------+-------+-------+-------+------------------------+---------------------+-------------------------+----------------------+-------------------------+----------------------+-------------------------+----------------------+----------------------+-------------------+-------------------+----------------+--------------------+-----------------+--------------------+-----------------+--------------------+-----------------+------------------------+---------------------+---------------------+------------------+----------------------+-------------------+----------------------+-------------------+----------------------+-------------------+---------------------+--------------------+----------------+---------------+--------------------+-------------------+\n",
            "|    tt0000009|                  5.9|        154|      5.9|        6.0|      12|      4|     10|     43|     28|     28|      9|      1|      5|     14|                     7.2|                  4.0|                      6.0|                  38.0|                      5.7|                  50.0|                      6.6|                  35.0|                   6.2|               97.0|                7.0|             1.0|                 5.9|             24.0|                 5.6|             36.0|                 6.7|             31.0|                     6.0|                 35.0|                  7.3|               3.0|                   5.9|               14.0|                   5.7|               13.0|                   4.5|                4.0|                  5.7|                34.0|             6.4|           51.0|                 6.0|               70.0|\n",
            "|    tt0000574|                  6.1|        589|      6.3|        6.0|      57|     18|     58|    137|    139|    103|     28|     20|     13|     16|                     6.0|                  1.0|                      6.1|                 114.0|                      6.0|                 239.0|                      6.3|                 115.0|                   6.1|              425.0|                6.0|             1.0|                 6.2|            102.0|                 6.0|            210.0|                 6.2|            100.0|                     6.2|                 50.0|                 null|              null|                   5.9|               12.0|                   6.2|               23.0|                   6.6|               14.0|                  6.4|                66.0|             6.0|           96.0|                 6.2|              331.0|\n",
            "|    tt0001892|                  5.8|        188|      6.0|        6.0|       6|      6|     17|     44|     52|     32|     16|      5|      6|      4|                    null|                 null|                      5.5|                  25.0|                      5.8|                  72.0|                      6.2|                  62.0|                   5.9|              146.0|               null|            null|                 5.5|             21.0|                 5.9|             67.0|                 6.2|             55.0|                     5.7|                 15.0|                 null|              null|                   5.8|                4.0|                   5.8|                4.0|                   6.8|                7.0|                  5.4|                32.0|             6.2|           31.0|                 5.9|              123.0|\n",
            "|    tt0002101|                  5.2|        446|      5.3|        5.0|      15|      8|     16|     62|     98|    117|     63|     26|     25|     16|                    null|                 null|                      5.3|                  23.0|                      5.0|                 111.0|                      5.3|                 193.0|                   5.1|              299.0|               null|            null|                 5.2|             20.0|                 4.9|             96.0|                 5.2|            171.0|                     5.9|                 39.0|                 null|              null|                   5.7|                3.0|                   5.5|               14.0|                   6.1|               21.0|                  4.9|                57.0|             5.5|          207.0|                 4.7|              105.0|\n",
            "|    tt0002130|                  7.0|       2237|      6.9|        7.0|     210|    225|    436|    641|    344|    169|     66|     39|     20|     87|                     7.5|                  4.0|                      7.0|                 402.0|                      7.0|                 895.0|                      7.1|                 482.0|                   7.0|             1607.0|                8.0|             2.0|                 7.0|            346.0|                 7.0|            804.0|                 7.0|            396.0|                     7.2|                215.0|                  7.0|               2.0|                   7.0|               52.0|                   7.3|               82.0|                   7.4|               77.0|                  6.9|               139.0|             7.0|          488.0|                 7.0|             1166.0|\n",
            "|    tt0002199|                  5.7|        484|      5.8|        6.0|      33|     15|     48|     80|    123|     77|     36|     20|     18|     34|                    null|                 null|                      5.6|                  35.0|                      5.6|                 177.0|                      5.8|                 168.0|                   5.7|              354.0|               null|            null|                 5.6|             32.0|                 5.7|            159.0|                 5.8|            151.0|                     5.8|                 31.0|                 null|              null|                   6.3|                3.0|                   5.1|               13.0|                   6.5|               15.0|                  5.5|                67.0|             5.9|          173.0|                 5.6|              181.0|\n",
            "|    tt0002423|                  6.8|        753|      6.8|        7.0|      80|     65|    105|    209|    142|     80|     27|     13|      4|     28|                     3.0|                  1.0|                      6.4|                  59.0|                      6.7|                 287.0|                      7.0|                 276.0|                   6.6|              530.0|                3.0|             1.0|                 6.4|             41.0|                 6.6|            240.0|                 6.8|            238.0|                     7.4|                 93.0|                 null|              null|                   6.5|               16.0|                   7.2|               40.0|                   8.2|               34.0|                  6.2|                88.0|             6.6|          139.0|                 6.8|              455.0|\n",
            "|    tt0002445|                  6.2|        273|      6.2|        6.0|      15|      8|     30|     74|     66|     40|     22|      6|      2|     10|                     6.0|                  1.0|                      5.9|                  34.0|                      6.2|                  99.0|                      6.3|                  69.0|                   6.2|              191.0|                6.0|             1.0|                 5.8|             29.0|                 6.2|             85.0|                 6.3|             64.0|                     6.3|                 21.0|                 null|              null|                   6.5|                5.0|                   6.3|               11.0|                   6.2|                5.0|                  5.7|                41.0|             5.8|           40.0|                 6.2|              154.0|\n",
            "|    tt0002452|                  6.7|        198|      7.1|        7.0|      53|      7|     23|     35|     30|     24|     12|      5|      3|      6|                    null|                 null|                      7.4|                  28.0|                      6.7|                 104.0|                      6.5|                  39.0|                   6.7|              153.0|               null|            null|                 7.3|             24.0|                 6.6|             92.0|                 6.5|             33.0|                     7.0|                 19.0|                 null|              null|                   8.3|                3.0|                   6.8|               10.0|                   6.8|                6.0|                  5.4|                25.0|             6.7|           25.0|                 6.8|              135.0|\n",
            "|    tt0002461|                  5.5|        225|      5.4|        6.0|       9|      6|     22|     34|     53|     40|     23|      8|      4|     26|                    null|                 null|                      5.9|                  11.0|                      5.3|                  95.0|                      5.8|                  72.0|                   5.5|              168.0|               null|            null|                 5.9|             11.0|                 5.2|             88.0|                 5.8|             63.0|                     7.7|                 15.0|                 null|              null|                  null|               null|                   7.2|                6.0|                   9.7|                9.0|                  5.4|                37.0|             5.8|          109.0|                 5.4|               68.0|\n",
            "|    tt0002646|                  6.6|        331|      6.6|        7.0|      17|     23|     63|     99|     66|     24|     11|      9|      5|     14|                    null|                 null|                      6.3|                  31.0|                      6.6|                 125.0|                      6.8|                 100.0|                   6.5|              232.0|               null|            null|                 6.3|             26.0|                 6.5|            110.0|                 6.7|             85.0|                     7.1|                 34.0|                 null|              null|                   6.1|                5.0|                   6.6|               13.0|                   7.8|               15.0|                  6.3|                39.0|             6.9|           67.0|                 6.5|              182.0|\n",
            "|    tt0002844|                  7.0|       1944|      6.6|        7.0|     195|    145|    335|    546|    363|    118|     30|     19|     11|    182|                     8.0|                  3.0|                      6.9|                 216.0|                      6.9|                 865.0|                      7.1|                 582.0|                   6.9|             1441.0|                8.0|             3.0|                 6.8|            181.0|                 6.9|            752.0|                 7.0|            481.0|                     7.4|                233.0|                 null|              null|                   7.4|               32.0|                   7.3|              102.0|                   7.9|               97.0|                  6.8|               113.0|             7.0|          567.0|                 6.9|             1024.0|\n",
            "|    tt0003014|                  7.1|        948|      7.2|        7.0|     128|    100|    161|    275|    156|     55|     33|      9|      8|     23|                     7.0|                  1.0|                      7.0|                 136.0|                      6.9|                 403.0|                      7.3|                 244.0|                   7.0|              676.0|                7.0|             1.0|                 7.0|            113.0|                 6.9|            351.0|                 7.1|            200.0|                     7.4|                107.0|                 null|              null|                   6.9|               20.0|                   7.2|               44.0|                   8.0|               41.0|                  6.8|                83.0|             7.1|          212.0|                 7.0|              519.0|\n",
            "|    tt0003037|                  7.0|       1349|      6.5|        7.0|     122|    118|    234|    356|    246|     79|     27|      9|      4|    154|                     8.0|                  1.0|                      6.8|                 128.0|                      6.9|                 580.0|                      7.1|                 440.0|                   6.9|              998.0|                8.0|             1.0|                 6.7|            108.0|                 6.9|            515.0|                 7.0|            357.0|                     7.2|                161.0|                 null|              null|                   7.2|               20.0|                   6.9|               58.0|                   7.8|               81.0|                  6.7|               101.0|             7.0|          397.0|                 6.9|              718.0|\n",
            "|    tt0003102|                  6.2|        100|      6.3|        6.0|       7|      5|     10|     23|     31|      9|      9|      2|      2|      2|                    null|                 null|                      5.7|                  14.0|                      6.1|                  36.0|                      6.6|                  27.0|                   6.1|               75.0|               null|            null|                 5.7|             14.0|                 6.1|             33.0|                 6.6|             25.0|                     6.3|                  3.0|                 null|              null|                  null|               null|                   6.0|                2.0|                   7.0|                1.0|                  5.9|                17.0|             6.9|           11.0|                 6.1|               65.0|\n",
            "|    tt0003131|                  6.5|        124|      6.7|        7.0|       9|     14|     15|     36|     24|     13|      3|      3|      2|      5|                    null|                 null|                      5.8|                  17.0|                      6.5|                  48.0|                      7.0|                  35.0|                   6.6|               88.0|               null|            null|                 5.6|             13.0|                 6.4|             42.0|                 7.2|             31.0|                     6.4|                 11.0|                 null|              null|                   6.2|                4.0|                   6.8|                4.0|                   6.7|                3.0|                  6.2|                27.0|             6.1|           10.0|                 6.6|               83.0|\n",
            "|    tt0003165|                  7.0|       1050|      6.6|        7.0|     105|     99|    164|    282|    184|     76|     21|     10|      6|    103|                    null|                 null|                      6.8|                 103.0|                      6.9|                 450.0|                      7.1|                 347.0|                   6.9|              787.0|               null|            null|                 6.7|             87.0|                 6.8|            398.0|                 7.0|            286.0|                     7.5|                124.0|                 null|              null|                   7.0|               16.0|                   7.2|               46.0|                   8.3|               60.0|                  6.6|                94.0|             6.8|          310.0|                 7.0|              570.0|\n",
            "|    tt0003167|                  5.8|        187|      6.1|        6.0|      15|      6|     16|     32|     54|     32|     13|     12|      2|      5|                    null|                 null|                      5.5|                  14.0|                      5.6|                  59.0|                      5.8|                  62.0|                   5.7|              124.0|               null|            null|                 5.1|             10.0|                 5.6|             51.0|                 5.8|             57.0|                     6.4|                 16.0|                 null|              null|                   9.0|                4.0|                   5.3|                6.0|                   7.0|                4.0|                  5.5|                38.0|             5.4|           52.0|                 5.9|               77.0|\n",
            "|    tt0003419|                  6.5|       1768|      6.5|        7.0|     137|     95|    233|    487|    407|    209|     72|     30|     17|     81|                     6.0|                  1.0|                      6.5|                 231.0|                      6.5|                 744.0|                      6.5|                 456.0|                   6.5|             1230.0|                6.0|             1.0|                 6.4|            175.0|                 6.5|            635.0|                 6.4|            381.0|                     6.7|                224.0|                 null|              null|                   6.7|               51.0|                   6.6|               97.0|                   7.1|               71.0|                  6.2|               117.0|             6.3|          350.0|                 6.5|              978.0|\n",
            "|    tt0003471|                  6.0|        552|      6.0|        6.0|      26|     15|     71|    100|    158|     94|     39|     20|      6|     23|                    null|                 null|                      5.2|                  42.0|                      5.8|                 182.0|                      6.3|                 226.0|                   5.9|              399.0|               null|            null|                 4.9|             33.0|                 5.7|            161.0|                 6.3|            198.0|                     6.5|                 54.0|                 null|              null|                   5.8|                9.0|                   6.6|               18.0|                   6.8|               25.0|                  5.9|                67.0|             6.1|          251.0|                 6.0|              184.0|\n",
            "+-------------+---------------------+-----------+---------+-----------+--------+-------+-------+-------+-------+-------+-------+-------+-------+-------+------------------------+---------------------+-------------------------+----------------------+-------------------------+----------------------+-------------------------+----------------------+----------------------+-------------------+-------------------+----------------+--------------------+-----------------+--------------------+-----------------+--------------------+-----------------+------------------------+---------------------+---------------------+------------------+----------------------+-------------------+----------------------+-------------------+----------------------+-------------------+---------------------+--------------------+----------------+---------------+--------------------+-------------------+\n",
            "only showing top 20 rows\n",
            "\n"
          ]
        }
      ]
    },
    {
      "cell_type": "code",
      "metadata": {
        "id": "T3FJd_zTKJPZ"
      },
      "source": [
        "# Configure settings for RDS\n",
        "mode = \"append\"\n",
        "jdbc_url=\"jdbc:postgresql://movies.cuqh3xl6sha7.us-east-2.rds.amazonaws.com:5432/postgres\"\n",
        "config = {\"user\":\"IMdb_movies\", \n",
        "          \"password\": \"11062011\", \n",
        "          \"driver\":\"org.postgresql.Driver\"}"
      ],
      "execution_count": 12,
      "outputs": []
    },
    {
      "cell_type": "code",
      "metadata": {
        "id": "cYu0g1JcKNPT"
      },
      "source": [
        "# Write customers_df to table in RDS\n",
        "# 5 min 14 s\n",
        "IMDb_ratings.write.jdbc(url=jdbc_url, table='IMDb_ratings', mode=mode, properties=config)"
      ],
      "execution_count": 13,
      "outputs": []
    }
  ]
}